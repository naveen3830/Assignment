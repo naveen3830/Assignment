{
  "metadata": {
    "language_info": {
      "codemirror_mode": {
        "name": "python",
        "version": 3
      },
      "file_extension": ".py",
      "mimetype": "text/x-python",
      "name": "python",
      "nbconvert_exporter": "python",
      "pygments_lexer": "ipython3",
      "version": "3.8"
    },
    "kernelspec": {
      "name": "python",
      "display_name": "Python (Pyodide)",
      "language": "python"
    }
  },
  "nbformat_minor": 4,
  "nbformat": 4,
  "cells": [
    {
      "cell_type": "code",
      "source": "#  1-Who developed python programming language?\n# Ans-Guido van Rossum developed python programming language",
      "metadata": {
        "trusted": true
      },
      "execution_count": 9,
      "outputs": []
    },
    {
      "cell_type": "code",
      "source": "# 2-Which type of programming does python support?\n# Ans-Python supports imperative, functional, procedural, and object-oriented programming.\n# i) The imperative programming paradigm uses the imperative mood of natural language to express directions. It executes commands in a step-by-step manner, just like a series of verbal commands.\n# ii)The functional programming paradigm treats program computation as the evaluation of mathematical functions based on lambda calculus.\n# iii)The procedural programming paradigm is a subtype of imperative programming in which statements are structured into procedures.\n# iv)The object-oriented programming paradigm considers basic entities as objects whose instance can contain both data and the corresponding methods to modify that data. ",
      "metadata": {
        "trusted": true
      },
      "execution_count": 10,
      "outputs": []
    },
    {
      "cell_type": "code",
      "source": "# 3-Is python case sensitive when dealing with identifiers?\n# #Ans-Yes, Python is a case-sensitive and it applies to identifiers too.",
      "metadata": {
        "trusted": true
      },
      "execution_count": 11,
      "outputs": []
    },
    {
      "cell_type": "code",
      "source": "# 4-what is the correct extension of the python file?\n# Ans- .py is the correct extension of the python file.",
      "metadata": {
        "trusted": true
      },
      "execution_count": 12,
      "outputs": []
    },
    {
      "cell_type": "code",
      "source": "# 5-Is python code compiled or interpreted?\n# Ans-Python is an interpreted language, which means the source code of a Python program is converted into bytecode that is then executed by the Python virtual machine",
      "metadata": {
        "trusted": true
      },
      "execution_count": 13,
      "outputs": []
    },
    {
      "cell_type": "code",
      "source": "# 6-Name a few blocks of code used to define in python\n# Ans-x=\"pwskilla\"\n# y=34\n# print(type(x))",
      "metadata": {
        "trusted": true
      },
      "execution_count": 14,
      "outputs": []
    },
    {
      "cell_type": "code",
      "source": "# 7-state a character used to give single line comment in python?\n# Ans- # is the character  used to give single line comment in python",
      "metadata": {
        "trusted": true
      },
      "execution_count": 15,
      "outputs": []
    },
    {
      "cell_type": "code",
      "source": "# 8-Mention functions which can help us to find which version of python that we are currently working on?\n# Ans-python_version()",
      "metadata": {
        "trusted": true
      },
      "execution_count": 16,
      "outputs": []
    },
    {
      "cell_type": "code",
      "source": "# 9-Python supports the creation of anonymous functions at runtime using a construct called?\n# Ans- lambda",
      "metadata": {
        "trusted": true
      },
      "execution_count": 18,
      "outputs": []
    },
    {
      "cell_type": "code",
      "source": "# 10-what does pip stand for python?\n# Ans-preferred installer program.",
      "metadata": {
        "trusted": true
      },
      "execution_count": 19,
      "outputs": []
    },
    {
      "cell_type": "code",
      "source": "# 11-Mention a few built functions in python?\n# Ans-type()\n# range()\n# print()\n# input()\n# max()\n# min()\n# abs()\n# eval()\n# list()\n# len()\n\n",
      "metadata": {
        "trusted": true
      },
      "execution_count": 22,
      "outputs": []
    },
    {
      "cell_type": "code",
      "source": "# 12-What is the maximum possible length of an identifier in python?\n# Ans-An identifier can have a maximum length of 79 characters in Python.",
      "metadata": {},
      "execution_count": null,
      "outputs": []
    },
    {
      "cell_type": "code",
      "source": "# 13-What are the benefits of using python?\n# Ans-i) Simple to Use and Understand.\n# ii) Free and Open-Source.\n# iii) Interpreted Language.\n# iv) Extensive library.\n# v) Dynamically Typed.\n# vi) Portability\n",
      "metadata": {
        "trusted": true
      },
      "execution_count": 23,
      "outputs": []
    },
    {
      "cell_type": "code",
      "source": "# 14-How is memomry managed in python?\n# Ans-Python uses the dynamic memory allocation which is managed by the Heap data structure. Memory Heap holds the objects and other data structures that will be used in the program. Python memory manager manages the allocation or de-allocation of the heap memory space through the API functions.",
      "metadata": {
        "trusted": true
      },
      "execution_count": 24,
      "outputs": []
    },
    {
      "cell_type": "code",
      "source": "# 15-How to install pyhon on windows and set path variables?\n# Ans-Python can be downloaded from its offcial website i.e https://www.python.org/downloads/\n# Right-clicking This PC and going to Properties.\n# Clicking on the Advanced system settings in the menu on the left.\n# Clicking on the Environment Variables button o​n the bottom right.\n# In the System variables section, selecting the Path variable and clicking on Edit. The next screen will show all the directories that are currently a part of the PATH variable.\n# Clicking on New and entering Python’s install directory.",
      "metadata": {
        "trusted": true
      },
      "execution_count": 25,
      "outputs": []
    },
    {
      "cell_type": "code",
      "source": "# 16-Is indentation required in pyhton?\n# Ans-Indentation refers to the spaces at the beginning of a code line. Where in other programming languages the indentation in code is for readability only, the indentation in Python is very important.",
      "metadata": {},
      "execution_count": null,
      "outputs": []
    }
  ]
}